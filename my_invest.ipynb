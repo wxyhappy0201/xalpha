{
 "cells": [
  {
   "cell_type": "code",
   "execution_count": 2,
   "metadata": {},
   "outputs": [],
   "source": [
    "import xalpha as xa"
   ]
  },
  {
   "cell_type": "code",
   "execution_count": 3,
   "metadata": {},
   "outputs": [],
   "source": [
    "import pandas as pd"
   ]
  },
  {
   "cell_type": "code",
   "execution_count": 19,
   "metadata": {},
   "outputs": [],
   "source": [
    "zzhli = xa.fundinfo(\"F011608\")"
   ]
  },
  {
   "cell_type": "code",
   "execution_count": 20,
   "metadata": {},
   "outputs": [
    {
     "data": {
      "text/html": [
       "<div>\n",
       "<style scoped>\n",
       "    .dataframe tbody tr th:only-of-type {\n",
       "        vertical-align: middle;\n",
       "    }\n",
       "\n",
       "    .dataframe tbody tr th {\n",
       "        vertical-align: top;\n",
       "    }\n",
       "\n",
       "    .dataframe thead th {\n",
       "        text-align: right;\n",
       "    }\n",
       "</style>\n",
       "<table border=\"1\" class=\"dataframe\">\n",
       "  <thead>\n",
       "    <tr style=\"text-align: right;\">\n",
       "      <th></th>\n",
       "      <th>date</th>\n",
       "      <th>netvalue</th>\n",
       "      <th>comment</th>\n",
       "      <th>totvalue</th>\n",
       "    </tr>\n",
       "  </thead>\n",
       "  <tbody>\n",
       "    <tr>\n",
       "      <th>0</th>\n",
       "      <td>2021-03-01</td>\n",
       "      <td>1.0000</td>\n",
       "      <td>0</td>\n",
       "      <td>1.0000</td>\n",
       "    </tr>\n",
       "    <tr>\n",
       "      <th>1</th>\n",
       "      <td>2021-03-05</td>\n",
       "      <td>0.9991</td>\n",
       "      <td>0</td>\n",
       "      <td>0.9991</td>\n",
       "    </tr>\n",
       "    <tr>\n",
       "      <th>2</th>\n",
       "      <td>2021-03-12</td>\n",
       "      <td>0.9972</td>\n",
       "      <td>0</td>\n",
       "      <td>0.9972</td>\n",
       "    </tr>\n",
       "    <tr>\n",
       "      <th>3</th>\n",
       "      <td>2021-03-19</td>\n",
       "      <td>0.9941</td>\n",
       "      <td>0</td>\n",
       "      <td>0.9941</td>\n",
       "    </tr>\n",
       "    <tr>\n",
       "      <th>4</th>\n",
       "      <td>2021-03-26</td>\n",
       "      <td>0.9951</td>\n",
       "      <td>0</td>\n",
       "      <td>0.9951</td>\n",
       "    </tr>\n",
       "    <tr>\n",
       "      <th>...</th>\n",
       "      <td>...</td>\n",
       "      <td>...</td>\n",
       "      <td>...</td>\n",
       "      <td>...</td>\n",
       "    </tr>\n",
       "    <tr>\n",
       "      <th>842</th>\n",
       "      <td>2024-09-30</td>\n",
       "      <td>0.6882</td>\n",
       "      <td>0</td>\n",
       "      <td>0.6882</td>\n",
       "    </tr>\n",
       "    <tr>\n",
       "      <th>843</th>\n",
       "      <td>2024-10-08</td>\n",
       "      <td>0.7957</td>\n",
       "      <td>0</td>\n",
       "      <td>0.7957</td>\n",
       "    </tr>\n",
       "    <tr>\n",
       "      <th>844</th>\n",
       "      <td>2024-10-09</td>\n",
       "      <td>0.7778</td>\n",
       "      <td>0</td>\n",
       "      <td>0.7778</td>\n",
       "    </tr>\n",
       "    <tr>\n",
       "      <th>845</th>\n",
       "      <td>2024-10-10</td>\n",
       "      <td>0.7462</td>\n",
       "      <td>0</td>\n",
       "      <td>0.7462</td>\n",
       "    </tr>\n",
       "    <tr>\n",
       "      <th>846</th>\n",
       "      <td>2024-10-11</td>\n",
       "      <td>0.7055</td>\n",
       "      <td>0</td>\n",
       "      <td>0.7055</td>\n",
       "    </tr>\n",
       "  </tbody>\n",
       "</table>\n",
       "<p>847 rows × 4 columns</p>\n",
       "</div>"
      ],
      "text/plain": [
       "          date  netvalue  comment  totvalue\n",
       "0   2021-03-01    1.0000        0    1.0000\n",
       "1   2021-03-05    0.9991        0    0.9991\n",
       "2   2021-03-12    0.9972        0    0.9972\n",
       "3   2021-03-19    0.9941        0    0.9941\n",
       "4   2021-03-26    0.9951        0    0.9951\n",
       "..         ...       ...      ...       ...\n",
       "842 2024-09-30    0.6882        0    0.6882\n",
       "843 2024-10-08    0.7957        0    0.7957\n",
       "844 2024-10-09    0.7778        0    0.7778\n",
       "845 2024-10-10    0.7462        0    0.7462\n",
       "846 2024-10-11    0.7055        0    0.7055\n",
       "\n",
       "[847 rows x 4 columns]"
      ]
     },
     "execution_count": 20,
     "metadata": {},
     "output_type": "execute_result"
    }
   ],
   "source": [
    "zzhli.price[zzhli.price[\"date\"] >= \"2020-01-01\"]"
   ]
  },
  {
   "cell_type": "code",
   "execution_count": 21,
   "metadata": {},
   "outputs": [
    {
     "data": {
      "text/plain": [
       "('易方达上证科创50联接A', '011608')"
      ]
     },
     "execution_count": 21,
     "metadata": {},
     "output_type": "execute_result"
    }
   ],
   "source": [
    "zzhli.name, zzhli.code "
   ]
  },
  {
   "cell_type": "code",
   "execution_count": 24,
   "metadata": {},
   "outputs": [
    {
     "ename": "KeyError",
     "evalue": "\"name='xq_a_token', domain=None, path=None\"",
     "output_type": "error",
     "traceback": [
      "\u001b[0;31m---------------------------------------------------------------------------\u001b[0m",
      "\u001b[0;31mKeyError\u001b[0m                                  Traceback (most recent call last)",
      "File \u001b[0;32m~/git/xalpha/xalpha/universal.py:2019\u001b[0m, in \u001b[0;36mcachedio.<locals>.cached.<locals>.wrapper\u001b[0;34m(*args, **kws)\u001b[0m\n\u001b[1;32m   2018\u001b[0m \u001b[38;5;28;01melif\u001b[39;00m backend \u001b[38;5;241m==\u001b[39m \u001b[38;5;124m\"\u001b[39m\u001b[38;5;124mmemory\u001b[39m\u001b[38;5;124m\"\u001b[39m:\n\u001b[0;32m-> 2019\u001b[0m     df0 \u001b[38;5;241m=\u001b[39m \u001b[38;5;28;43mgetattr\u001b[39;49m\u001b[43m(\u001b[49m\u001b[43mthismodule\u001b[49m\u001b[43m,\u001b[49m\u001b[43m \u001b[49m\u001b[38;5;124;43m\"\u001b[39;49m\u001b[38;5;124;43mcached_dict\u001b[39;49m\u001b[38;5;124;43m\"\u001b[39;49m\u001b[43m)\u001b[49m\u001b[43m[\u001b[49m\u001b[43mkey\u001b[49m\u001b[43m]\u001b[49m\n\u001b[1;32m   2020\u001b[0m \u001b[38;5;28;01melse\u001b[39;00m:\n",
      "\u001b[0;31mKeyError\u001b[0m: 'SH000300'",
      "\nDuring handling of the above exception, another exception occurred:\n",
      "\u001b[0;31mKeyError\u001b[0m                                  Traceback (most recent call last)",
      "Cell \u001b[0;32mIn[24], line 1\u001b[0m\n\u001b[0;32m----> 1\u001b[0m basic \u001b[38;5;241m=\u001b[39m \u001b[43mxa\u001b[49m\u001b[38;5;241;43m.\u001b[39;49m\u001b[43mindexinfo\u001b[49m\u001b[43m(\u001b[49m\u001b[38;5;124;43m\"\u001b[39;49m\u001b[38;5;124;43mSH000300\u001b[39;49m\u001b[38;5;124;43m\"\u001b[39;49m\u001b[43m)\u001b[49m\n",
      "File \u001b[0;32m~/git/xalpha/xalpha/info.py:1193\u001b[0m, in \u001b[0;36mindexinfo\u001b[0;34m(code, **kws)\u001b[0m\n\u001b[1;32m   1189\u001b[0m     kws[\u001b[38;5;124m\"\u001b[39m\u001b[38;5;124mstart\u001b[39m\u001b[38;5;124m\"\u001b[39m] \u001b[38;5;241m=\u001b[39m \u001b[38;5;124m\"\u001b[39m\u001b[38;5;124m20120101\u001b[39m\u001b[38;5;124m\"\u001b[39m\n\u001b[1;32m   1191\u001b[0m \u001b[38;5;28;01mfrom\u001b[39;00m \u001b[38;5;21;01mxalpha\u001b[39;00m\u001b[38;5;21;01m.\u001b[39;00m\u001b[38;5;21;01muniversal\u001b[39;00m \u001b[38;5;28;01mimport\u001b[39;00m vinfo\n\u001b[0;32m-> 1193\u001b[0m \u001b[38;5;28;01mreturn\u001b[39;00m \u001b[43mvinfo\u001b[49m\u001b[43m(\u001b[49m\u001b[43mcode\u001b[49m\u001b[43m,\u001b[49m\u001b[43m \u001b[49m\u001b[38;5;241;43m*\u001b[39;49m\u001b[38;5;241;43m*\u001b[39;49m\u001b[43mkws\u001b[49m\u001b[43m)\u001b[49m\n",
      "File \u001b[0;32m~/git/xalpha/xalpha/universal.py:2761\u001b[0m, in \u001b[0;36mvinfo.__init__\u001b[0;34m(self, code, name, start, end, rate, col, normalization, **kws)\u001b[0m\n\u001b[1;32m   2759\u001b[0m \u001b[38;5;28mself\u001b[39m\u001b[38;5;241m.\u001b[39mstart \u001b[38;5;241m=\u001b[39m start  \u001b[38;5;66;03m# None is one year ago\u001b[39;00m\n\u001b[1;32m   2760\u001b[0m \u001b[38;5;28mself\u001b[39m\u001b[38;5;241m.\u001b[39mend \u001b[38;5;241m=\u001b[39m end  \u001b[38;5;66;03m# None is yesterday\u001b[39;00m\n\u001b[0;32m-> 2761\u001b[0m df \u001b[38;5;241m=\u001b[39m \u001b[43mget_daily\u001b[49m\u001b[43m(\u001b[49m\u001b[43mcode\u001b[49m\u001b[43m,\u001b[49m\u001b[43m \u001b[49m\u001b[43mstart\u001b[49m\u001b[38;5;241;43m=\u001b[39;49m\u001b[43mstart\u001b[49m\u001b[43m,\u001b[49m\u001b[43m \u001b[49m\u001b[43mend\u001b[49m\u001b[38;5;241;43m=\u001b[39;49m\u001b[43mend\u001b[49m\u001b[43m)\u001b[49m\n\u001b[1;32m   2762\u001b[0m df[col] \u001b[38;5;241m=\u001b[39m pd\u001b[38;5;241m.\u001b[39mto_numeric(df[col])  \u001b[38;5;66;03m# in case the col is not float\u001b[39;00m\n\u001b[1;32m   2763\u001b[0m df[\u001b[38;5;124m\"\u001b[39m\u001b[38;5;124mtotvalue\u001b[39m\u001b[38;5;124m\"\u001b[39m] \u001b[38;5;241m=\u001b[39m df[col]\n",
      "File \u001b[0;32m~/git/xalpha/xalpha/universal.py:2077\u001b[0m, in \u001b[0;36mcachedio.<locals>.cached.<locals>.wrapper\u001b[0;34m(*args, **kws)\u001b[0m\n\u001b[1;32m   2073\u001b[0m                 kws[\u001b[38;5;124m\"\u001b[39m\u001b[38;5;124mend\u001b[39m\u001b[38;5;124m\"\u001b[39m] \u001b[38;5;241m=\u001b[39m (\n\u001b[1;32m   2074\u001b[0m                     today_obj() \u001b[38;5;241m-\u001b[39m dt\u001b[38;5;241m.\u001b[39mtimedelta(days\u001b[38;5;241m=\u001b[39m\u001b[38;5;241m1\u001b[39m)\n\u001b[1;32m   2075\u001b[0m                 )\u001b[38;5;241m.\u001b[39mstrftime(\u001b[38;5;124m\"\u001b[39m\u001b[38;5;124m%\u001b[39m\u001b[38;5;124mY\u001b[39m\u001b[38;5;124m%\u001b[39m\u001b[38;5;124mm\u001b[39m\u001b[38;5;132;01m%d\u001b[39;00m\u001b[38;5;124m\"\u001b[39m)\n\u001b[1;32m   2076\u001b[0m         is_changed \u001b[38;5;241m=\u001b[39m \u001b[38;5;28;01mTrue\u001b[39;00m\n\u001b[0;32m-> 2077\u001b[0m         df0 \u001b[38;5;241m=\u001b[39m \u001b[43mf\u001b[49m\u001b[43m(\u001b[49m\u001b[38;5;241;43m*\u001b[39;49m\u001b[43margs\u001b[49m\u001b[43m,\u001b[49m\u001b[43m \u001b[49m\u001b[38;5;241;43m*\u001b[39;49m\u001b[38;5;241;43m*\u001b[39;49m\u001b[43mkws\u001b[49m\u001b[43m)\u001b[49m\n\u001b[1;32m   2079\u001b[0m \u001b[38;5;28;01mif\u001b[39;00m df0 \u001b[38;5;129;01mis\u001b[39;00m \u001b[38;5;129;01mnot\u001b[39;00m \u001b[38;5;28;01mNone\u001b[39;00m \u001b[38;5;129;01mand\u001b[39;00m \u001b[38;5;28mlen\u001b[39m(df0) \u001b[38;5;241m>\u001b[39m \u001b[38;5;241m0\u001b[39m \u001b[38;5;129;01mand\u001b[39;00m is_changed:\n\u001b[1;32m   2080\u001b[0m     \u001b[38;5;28;01mif\u001b[39;00m backend \u001b[38;5;241m==\u001b[39m \u001b[38;5;124m\"\u001b[39m\u001b[38;5;124mcsv\u001b[39m\u001b[38;5;124m\"\u001b[39m:\n",
      "File \u001b[0;32m~/git/xalpha/xalpha/universal.py:1150\u001b[0m, in \u001b[0;36m_get_daily\u001b[0;34m(code, start, end, prev, _from, wrapper, handler, **kws)\u001b[0m\n\u001b[1;32m   1147\u001b[0m \u001b[38;5;28;01melif\u001b[39;00m _from \u001b[38;5;129;01min\u001b[39;00m [\u001b[38;5;124m\"\u001b[39m\u001b[38;5;124mxueqiu\u001b[39m\u001b[38;5;124m\"\u001b[39m, \u001b[38;5;124m\"\u001b[39m\u001b[38;5;124mxq\u001b[39m\u001b[38;5;124m\"\u001b[39m, \u001b[38;5;124m\"\u001b[39m\u001b[38;5;124msnowball\u001b[39m\u001b[38;5;124m\"\u001b[39m, \u001b[38;5;124m\"\u001b[39m\u001b[38;5;124mXQ\u001b[39m\u001b[38;5;124m\"\u001b[39m]:\n\u001b[1;32m   1148\u001b[0m     code, type_ \u001b[38;5;241m=\u001b[39m decouple_code(code)\n\u001b[0;32m-> 1150\u001b[0m     df \u001b[38;5;241m=\u001b[39m \u001b[43mget_historical_fromxq\u001b[49m\u001b[43m(\u001b[49m\u001b[43mcode\u001b[49m\u001b[43m,\u001b[49m\u001b[43m \u001b[49m\u001b[43mcount\u001b[49m\u001b[43m,\u001b[49m\u001b[43m \u001b[49m\u001b[43mtype_\u001b[49m\u001b[38;5;241;43m=\u001b[39;49m\u001b[43mtype_\u001b[49m\u001b[43m)\u001b[49m\n\u001b[1;32m   1151\u001b[0m     df \u001b[38;5;241m=\u001b[39m prettify(df)\n\u001b[1;32m   1152\u001b[0m \u001b[38;5;28;01melif\u001b[39;00m _from \u001b[38;5;129;01min\u001b[39;00m [\u001b[38;5;124m\"\u001b[39m\u001b[38;5;124mzhongjianjia\u001b[39m\u001b[38;5;124m\"\u001b[39m, \u001b[38;5;124m\"\u001b[39m\u001b[38;5;124mzjj\u001b[39m\u001b[38;5;124m\"\u001b[39m, \u001b[38;5;124m\"\u001b[39m\u001b[38;5;124mchinamoney\u001b[39m\u001b[38;5;124m\"\u001b[39m, \u001b[38;5;124m\"\u001b[39m\u001b[38;5;124mZJJ\u001b[39m\u001b[38;5;124m\"\u001b[39m]:\n",
      "File \u001b[0;32m~/git/xalpha/xalpha/universal.py:177\u001b[0m, in \u001b[0;36mget_historical_fromxq\u001b[0;34m(code, count, type_, full)\u001b[0m\n\u001b[1;32m    171\u001b[0m     url \u001b[38;5;241m+\u001b[39m\u001b[38;5;241m=\u001b[39m \u001b[38;5;124m\"\u001b[39m\u001b[38;5;124m&indicator=kline,pe,pb,ps,pcf,market_capital,agt,ggt,balance\u001b[39m\u001b[38;5;124m\"\u001b[39m\n\u001b[1;32m    172\u001b[0m \u001b[38;5;66;03m# pe 是 TTM 数据\u001b[39;00m\n\u001b[1;32m    173\u001b[0m r \u001b[38;5;241m=\u001b[39m rget_json(\n\u001b[1;32m    174\u001b[0m     url\u001b[38;5;241m.\u001b[39mformat(\n\u001b[1;32m    175\u001b[0m         code\u001b[38;5;241m=\u001b[39mcode, tomorrow\u001b[38;5;241m=\u001b[39m\u001b[38;5;28mint\u001b[39m(tomorrow_ts() \u001b[38;5;241m*\u001b[39m \u001b[38;5;241m1000\u001b[39m), count\u001b[38;5;241m=\u001b[39mcount, type_\u001b[38;5;241m=\u001b[39mtype_\n\u001b[1;32m    176\u001b[0m     ),\n\u001b[0;32m--> 177\u001b[0m     cookies\u001b[38;5;241m=\u001b[39m\u001b[43mget_token\u001b[49m\u001b[43m(\u001b[49m\u001b[43m)\u001b[49m,\n\u001b[1;32m    178\u001b[0m     headers\u001b[38;5;241m=\u001b[39m{\u001b[38;5;124m\"\u001b[39m\u001b[38;5;124muser-agent\u001b[39m\u001b[38;5;124m\"\u001b[39m: \u001b[38;5;124m\"\u001b[39m\u001b[38;5;124mMozilla/5.0\u001b[39m\u001b[38;5;124m\"\u001b[39m},\n\u001b[1;32m    179\u001b[0m )\n\u001b[1;32m    180\u001b[0m df \u001b[38;5;241m=\u001b[39m pd\u001b[38;5;241m.\u001b[39mDataFrame(data\u001b[38;5;241m=\u001b[39mr[\u001b[38;5;124m\"\u001b[39m\u001b[38;5;124mdata\u001b[39m\u001b[38;5;124m\"\u001b[39m][\u001b[38;5;124m\"\u001b[39m\u001b[38;5;124mitem\u001b[39m\u001b[38;5;124m\"\u001b[39m], columns\u001b[38;5;241m=\u001b[39mr[\u001b[38;5;124m\"\u001b[39m\u001b[38;5;124mdata\u001b[39m\u001b[38;5;124m\"\u001b[39m][\u001b[38;5;124m\"\u001b[39m\u001b[38;5;124mcolumn\u001b[39m\u001b[38;5;124m\"\u001b[39m])\n\u001b[1;32m    181\u001b[0m df[\u001b[38;5;124m\"\u001b[39m\u001b[38;5;124mdate\u001b[39m\u001b[38;5;124m\"\u001b[39m] \u001b[38;5;241m=\u001b[39m (df[\u001b[38;5;124m\"\u001b[39m\u001b[38;5;124mtimestamp\u001b[39m\u001b[38;5;124m\"\u001b[39m])\u001b[38;5;241m.\u001b[39mapply(ts2pdts)  \u001b[38;5;66;03m# reset hours to zero\u001b[39;00m\n",
      "File \u001b[0;32m~/git/xalpha/xalpha/universal.py:129\u001b[0m, in \u001b[0;36mlru_cache_time.<locals>.wrapper.<locals>.newfunc\u001b[0;34m(*args, **kwargs)\u001b[0m\n\u001b[1;32m    127\u001b[0m ttl_hash \u001b[38;5;241m=\u001b[39m \u001b[38;5;28mround\u001b[39m(time\u001b[38;5;241m.\u001b[39mtime() \u001b[38;5;241m/\u001b[39m ttl)\n\u001b[1;32m    128\u001b[0m f_ttl \u001b[38;5;241m=\u001b[39m \u001b[38;5;28mgetattr\u001b[39m(thismodule, func\u001b[38;5;241m.\u001b[39m\u001b[38;5;18m__name__\u001b[39m \u001b[38;5;241m+\u001b[39m \u001b[38;5;124m\"\u001b[39m\u001b[38;5;124m_ttl\u001b[39m\u001b[38;5;124m\"\u001b[39m)\n\u001b[0;32m--> 129\u001b[0m \u001b[38;5;28;01mreturn\u001b[39;00m \u001b[43mf_ttl\u001b[49m\u001b[43m(\u001b[49m\u001b[43mttl_hash\u001b[49m\u001b[43m,\u001b[49m\u001b[43m \u001b[49m\u001b[38;5;241;43m*\u001b[39;49m\u001b[43margs\u001b[49m\u001b[43m,\u001b[49m\u001b[43m \u001b[49m\u001b[38;5;241;43m*\u001b[39;49m\u001b[38;5;241;43m*\u001b[39;49m\u001b[43mkwargs\u001b[49m\u001b[43m)\u001b[49m\n",
      "File \u001b[0;32m~/git/xalpha/xalpha/universal.py:121\u001b[0m, in \u001b[0;36mlru_cache_time.<locals>.wrapper.<locals>.time_aware\u001b[0;34m(_ttl, *args, **kwargs)\u001b[0m\n\u001b[1;32m    119\u001b[0m \u001b[38;5;129m@lru_cache\u001b[39m(maxsize)\n\u001b[1;32m    120\u001b[0m \u001b[38;5;28;01mdef\u001b[39;00m \u001b[38;5;21mtime_aware\u001b[39m(_ttl, \u001b[38;5;241m*\u001b[39margs, \u001b[38;5;241m*\u001b[39m\u001b[38;5;241m*\u001b[39mkwargs):\n\u001b[0;32m--> 121\u001b[0m     \u001b[38;5;28;01mreturn\u001b[39;00m \u001b[43mfunc\u001b[49m\u001b[43m(\u001b[49m\u001b[38;5;241;43m*\u001b[39;49m\u001b[43margs\u001b[49m\u001b[43m,\u001b[49m\u001b[43m \u001b[49m\u001b[38;5;241;43m*\u001b[39;49m\u001b[38;5;241;43m*\u001b[39;49m\u001b[43mkwargs\u001b[49m\u001b[43m)\u001b[49m\n",
      "File \u001b[0;32m~/git/xalpha/xalpha/universal.py:150\u001b[0m, in \u001b[0;36mget_token\u001b[0;34m(source)\u001b[0m\n\u001b[1;32m    148\u001b[0m \u001b[38;5;28;01mif\u001b[39;00m source \u001b[38;5;129;01min\u001b[39;00m [\u001b[38;5;124m\"\u001b[39m\u001b[38;5;124mxq\u001b[39m\u001b[38;5;124m\"\u001b[39m, \u001b[38;5;124m\"\u001b[39m\u001b[38;5;124mxueqiu\u001b[39m\u001b[38;5;124m\"\u001b[39m]:\n\u001b[1;32m    149\u001b[0m     r \u001b[38;5;241m=\u001b[39m rget(\u001b[38;5;124m\"\u001b[39m\u001b[38;5;124mhttps://xueqiu.com\u001b[39m\u001b[38;5;124m\"\u001b[39m, headers\u001b[38;5;241m=\u001b[39m{\u001b[38;5;124m\"\u001b[39m\u001b[38;5;124muser-agent\u001b[39m\u001b[38;5;124m\"\u001b[39m: \u001b[38;5;124m\"\u001b[39m\u001b[38;5;124mMozilla\u001b[39m\u001b[38;5;124m\"\u001b[39m})\n\u001b[0;32m--> 150\u001b[0m     \u001b[38;5;28;01mreturn\u001b[39;00m {\u001b[38;5;124m\"\u001b[39m\u001b[38;5;124mxq_a_token\u001b[39m\u001b[38;5;124m\"\u001b[39m: \u001b[43mr\u001b[49m\u001b[38;5;241;43m.\u001b[39;49m\u001b[43mcookies\u001b[49m\u001b[43m[\u001b[49m\u001b[38;5;124;43m\"\u001b[39;49m\u001b[38;5;124;43mxq_a_token\u001b[39;49m\u001b[38;5;124;43m\"\u001b[39;49m\u001b[43m]\u001b[49m, \u001b[38;5;124m\"\u001b[39m\u001b[38;5;124mu\u001b[39m\u001b[38;5;124m\"\u001b[39m: r\u001b[38;5;241m.\u001b[39mcookies[\u001b[38;5;124m\"\u001b[39m\u001b[38;5;124mu\u001b[39m\u001b[38;5;124m\"\u001b[39m]}\n\u001b[1;32m    151\u001b[0m \u001b[38;5;28;01melse\u001b[39;00m:\n\u001b[1;32m    152\u001b[0m     \u001b[38;5;28;01mraise\u001b[39;00m \u001b[38;5;167;01mValueError\u001b[39;00m(\u001b[38;5;124m\"\u001b[39m\u001b[38;5;124m`get_token` doesn\u001b[39m\u001b[38;5;124m'\u001b[39m\u001b[38;5;124mt support \u001b[39m\u001b[38;5;132;01m%s\u001b[39;00m\u001b[38;5;124m source\u001b[39m\u001b[38;5;124m\"\u001b[39m \u001b[38;5;241m%\u001b[39m source)\n",
      "File \u001b[0;32m~/miniconda3/lib/python3.8/site-packages/requests/cookies.py:334\u001b[0m, in \u001b[0;36mRequestsCookieJar.__getitem__\u001b[0;34m(self, name)\u001b[0m\n\u001b[1;32m    327\u001b[0m \u001b[38;5;28;01mdef\u001b[39;00m \u001b[38;5;21m__getitem__\u001b[39m(\u001b[38;5;28mself\u001b[39m, name):\n\u001b[1;32m    328\u001b[0m \u001b[38;5;250m    \u001b[39m\u001b[38;5;124;03m\"\"\"Dict-like __getitem__() for compatibility with client code. Throws\u001b[39;00m\n\u001b[1;32m    329\u001b[0m \u001b[38;5;124;03m    exception if there are more than one cookie with name. In that case,\u001b[39;00m\n\u001b[1;32m    330\u001b[0m \u001b[38;5;124;03m    use the more explicit get() method instead.\u001b[39;00m\n\u001b[1;32m    331\u001b[0m \n\u001b[1;32m    332\u001b[0m \u001b[38;5;124;03m    .. warning:: operation is O(n), not O(1).\u001b[39;00m\n\u001b[1;32m    333\u001b[0m \u001b[38;5;124;03m    \"\"\"\u001b[39;00m\n\u001b[0;32m--> 334\u001b[0m     \u001b[38;5;28;01mreturn\u001b[39;00m \u001b[38;5;28;43mself\u001b[39;49m\u001b[38;5;241;43m.\u001b[39;49m\u001b[43m_find_no_duplicates\u001b[49m\u001b[43m(\u001b[49m\u001b[43mname\u001b[49m\u001b[43m)\u001b[49m\n",
      "File \u001b[0;32m~/miniconda3/lib/python3.8/site-packages/requests/cookies.py:413\u001b[0m, in \u001b[0;36mRequestsCookieJar._find_no_duplicates\u001b[0;34m(self, name, domain, path)\u001b[0m\n\u001b[1;32m    411\u001b[0m \u001b[38;5;28;01mif\u001b[39;00m toReturn:\n\u001b[1;32m    412\u001b[0m     \u001b[38;5;28;01mreturn\u001b[39;00m toReturn\n\u001b[0;32m--> 413\u001b[0m \u001b[38;5;28;01mraise\u001b[39;00m \u001b[38;5;167;01mKeyError\u001b[39;00m(\u001b[38;5;124mf\u001b[39m\u001b[38;5;124m\"\u001b[39m\u001b[38;5;124mname=\u001b[39m\u001b[38;5;132;01m{\u001b[39;00mname\u001b[38;5;132;01m!r}\u001b[39;00m\u001b[38;5;124m, domain=\u001b[39m\u001b[38;5;132;01m{\u001b[39;00mdomain\u001b[38;5;132;01m!r}\u001b[39;00m\u001b[38;5;124m, path=\u001b[39m\u001b[38;5;132;01m{\u001b[39;00mpath\u001b[38;5;132;01m!r}\u001b[39;00m\u001b[38;5;124m\"\u001b[39m)\n",
      "\u001b[0;31mKeyError\u001b[0m: \"name='xq_a_token', domain=None, path=None\""
     ]
    }
   ],
   "source": [
    "basic = xa.indexinfo(\"SH000300\")"
   ]
  },
  {
   "cell_type": "code",
   "execution_count": 16,
   "metadata": {},
   "outputs": [
    {
     "ename": "IndexError",
     "evalue": "single positional indexer is out-of-bounds",
     "output_type": "error",
     "traceback": [
      "\u001b[0;31m---------------------------------------------------------------------------\u001b[0m",
      "\u001b[0;31mIndexError\u001b[0m                                Traceback (most recent call last)",
      "Cell \u001b[0;32mIn[16], line 1\u001b[0m\n\u001b[0;32m----> 1\u001b[0m zzhli\u001b[38;5;241m.\u001b[39mbcmkset(\u001b[43mxa\u001b[49m\u001b[38;5;241;43m.\u001b[39;49m\u001b[43mindexinfo\u001b[49m\u001b[43m(\u001b[49m\u001b[38;5;124;43m\"\u001b[39;49m\u001b[38;5;124;43m000300\u001b[39;49m\u001b[38;5;124;43m\"\u001b[39;49m\u001b[43m)\u001b[49m, start\u001b[38;5;241m=\u001b[39m\u001b[38;5;124m\"\u001b[39m\u001b[38;5;124m2022-03-01\u001b[39m\u001b[38;5;124m\"\u001b[39m)\n",
      "File \u001b[0;32m~/git/xalpha/xalpha/info.py:1193\u001b[0m, in \u001b[0;36mindexinfo\u001b[0;34m(code, **kws)\u001b[0m\n\u001b[1;32m   1189\u001b[0m     kws[\u001b[38;5;124m\"\u001b[39m\u001b[38;5;124mstart\u001b[39m\u001b[38;5;124m\"\u001b[39m] \u001b[38;5;241m=\u001b[39m \u001b[38;5;124m\"\u001b[39m\u001b[38;5;124m20120101\u001b[39m\u001b[38;5;124m\"\u001b[39m\n\u001b[1;32m   1191\u001b[0m \u001b[38;5;28;01mfrom\u001b[39;00m \u001b[38;5;21;01mxalpha\u001b[39;00m\u001b[38;5;21;01m.\u001b[39;00m\u001b[38;5;21;01muniversal\u001b[39;00m \u001b[38;5;28;01mimport\u001b[39;00m vinfo\n\u001b[0;32m-> 1193\u001b[0m \u001b[38;5;28;01mreturn\u001b[39;00m \u001b[43mvinfo\u001b[49m\u001b[43m(\u001b[49m\u001b[43mcode\u001b[49m\u001b[43m,\u001b[49m\u001b[43m \u001b[49m\u001b[38;5;241;43m*\u001b[39;49m\u001b[38;5;241;43m*\u001b[39;49m\u001b[43mkws\u001b[49m\u001b[43m)\u001b[49m\n",
      "File \u001b[0;32m~/git/xalpha/xalpha/universal.py:2765\u001b[0m, in \u001b[0;36mvinfo.__init__\u001b[0;34m(self, code, name, start, end, rate, col, normalization, **kws)\u001b[0m\n\u001b[1;32m   2763\u001b[0m df[\u001b[38;5;124m\"\u001b[39m\u001b[38;5;124mtotvalue\u001b[39m\u001b[38;5;124m\"\u001b[39m] \u001b[38;5;241m=\u001b[39m df[col]\n\u001b[1;32m   2764\u001b[0m \u001b[38;5;28;01mif\u001b[39;00m normalization:\n\u001b[0;32m-> 2765\u001b[0m     df[\u001b[38;5;124m\"\u001b[39m\u001b[38;5;124mnetvalue\u001b[39m\u001b[38;5;124m\"\u001b[39m] \u001b[38;5;241m=\u001b[39m df[col] \u001b[38;5;241m/\u001b[39m \u001b[43mdf\u001b[49m\u001b[38;5;241;43m.\u001b[39;49m\u001b[43miloc\u001b[49m\u001b[43m[\u001b[49m\u001b[38;5;241;43m0\u001b[39;49m\u001b[43m]\u001b[49m[col]\n\u001b[1;32m   2766\u001b[0m \u001b[38;5;28;01melse\u001b[39;00m:\n\u001b[1;32m   2767\u001b[0m     df[\u001b[38;5;124m\"\u001b[39m\u001b[38;5;124mnetvalue\u001b[39m\u001b[38;5;124m\"\u001b[39m] \u001b[38;5;241m=\u001b[39m df[col]\n",
      "File \u001b[0;32m~/miniconda3/lib/python3.8/site-packages/pandas/core/indexing.py:1103\u001b[0m, in \u001b[0;36m__getitem__\u001b[0;34m(self, key)\u001b[0m\n\u001b[1;32m   1096\u001b[0m @doc(IndexingMixin.loc)\n\u001b[1;32m   1097\u001b[0m class _LocIndexer(_LocationIndexer):\n\u001b[1;32m   1098\u001b[0m     _takeable: bool = False\n\u001b[1;32m   1099\u001b[0m     _valid_types = (\n\u001b[1;32m   1100\u001b[0m         \"labels (MUST BE IN THE INDEX), slices of labels (BOTH \"\n\u001b[1;32m   1101\u001b[0m         \"endpoints included! Can be slices of integers if the \"\n\u001b[1;32m   1102\u001b[0m         \"index is integers), listlike of labels, boolean\"\n\u001b[0;32m-> 1103\u001b[0m     )\n\u001b[1;32m   1105\u001b[0m     # -------------------------------------------------------------------\n\u001b[1;32m   1106\u001b[0m     # Key Checks\n\u001b[1;32m   1108\u001b[0m     @doc(_LocationIndexer._validate_key)\n\u001b[1;32m   1109\u001b[0m     def _validate_key(self, key, axis: int):\n\u001b[1;32m   1110\u001b[0m         # valid for a collection of labels (we check their presence later)\n\u001b[1;32m   1111\u001b[0m         # slice of labels (where start-end in labels)\n\u001b[1;32m   1112\u001b[0m         # slice of integers (only if in the labels)\n\u001b[1;32m   1113\u001b[0m         # boolean not in slice and with boolean index\n",
      "File \u001b[0;32m~/miniconda3/lib/python3.8/site-packages/pandas/core/indexing.py:1656\u001b[0m, in \u001b[0;36m_getitem_axis\u001b[0;34m(self, key, axis)\u001b[0m\n\u001b[1;32m   1652\u001b[0m         key = _tupleize_axis_indexer(self.ndim, self.axis, key)\n\u001b[1;32m   1654\u001b[0m     return key\n\u001b[0;32m-> 1656\u001b[0m # -------------------------------------------------------------------\n\u001b[1;32m   1658\u001b[0m def _setitem_with_indexer(self, indexer, value, name=\"iloc\"):\n\u001b[1;32m   1659\u001b[0m     \"\"\"\n\u001b[1;32m   1660\u001b[0m     _setitem_with_indexer is for setting values on a Series/DataFrame\n\u001b[1;32m   1661\u001b[0m     using positional indexers.\n\u001b[0;32m   (...)\u001b[0m\n\u001b[1;32m   1668\u001b[0m     BlockManager methods, see GH#12991, GH#22046, GH#15686.\n\u001b[1;32m   1669\u001b[0m     \"\"\"\n",
      "File \u001b[0;32m~/miniconda3/lib/python3.8/site-packages/pandas/core/indexing.py:1589\u001b[0m, in \u001b[0;36m_validate_integer\u001b[0;34m(self, key, axis)\u001b[0m\n\u001b[1;32m   1586\u001b[0m     try:\n\u001b[1;32m   1587\u001b[0m         return self.obj._take_with_is_copy(key, axis=axis)\n\u001b[1;32m   1588\u001b[0m     except IndexError as err:\n\u001b[0;32m-> 1589\u001b[0m         # re-raise with different error message\n\u001b[1;32m   1590\u001b[0m         raise IndexError(\"positional indexers are out-of-bounds\") from err\n\u001b[1;32m   1592\u001b[0m def _getitem_axis(self, key, axis: int):\n",
      "\u001b[0;31mIndexError\u001b[0m: single positional indexer is out-of-bounds"
     ]
    }
   ],
   "source": [
    "zzhli.bcmkset(, start=\"2022-03-01\")"
   ]
  }
 ],
 "metadata": {
  "kernelspec": {
   "display_name": "base",
   "language": "python",
   "name": "python3"
  },
  "language_info": {
   "codemirror_mode": {
    "name": "ipython",
    "version": 3
   },
   "file_extension": ".py",
   "mimetype": "text/x-python",
   "name": "python",
   "nbconvert_exporter": "python",
   "pygments_lexer": "ipython3",
   "version": "3.8.17"
  }
 },
 "nbformat": 4,
 "nbformat_minor": 2
}
